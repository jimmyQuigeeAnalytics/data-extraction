{
  "nbformat": 4,
  "nbformat_minor": 0,
  "metadata": {
    "colab": {
      "provenance": [],
      "authorship_tag": "ABX9TyPjfa7rwXrNC4WhjTU2Y56F",
      "include_colab_link": true
    },
    "kernelspec": {
      "name": "python3",
      "display_name": "Python 3"
    },
    "language_info": {
      "name": "python"
    }
  },
  "cells": [
    {
      "cell_type": "markdown",
      "metadata": {
        "id": "view-in-github",
        "colab_type": "text"
      },
      "source": [
        "<a href=\"https://colab.research.google.com/github/jimmyQuigeeAnalytics/data-extraction/blob/main/Google_Trends_Related_Queries_Extraction.ipynb\" target=\"_parent\"><img src=\"https://colab.research.google.com/assets/colab-badge.svg\" alt=\"Open In Colab\"/></a>"
      ]
    },
    {
      "cell_type": "markdown",
      "source": [
        "### Background\n",
        "\n",
        "This Jupyter notebook is designed to extract and analyze Google Trends data for various categories and sub-categories of products. The primary goal is to fetch related queries for specific keywords within a two-year timeframe on a global scale.\n",
        "\n",
        "The process involves the following steps:\n",
        "1. **Initialization**: The notebook installs and imports necessary libraries, including `pytrends` for interacting with the Google Trends API.\n",
        "2. **Data Definition**: It defines a comprehensive list of categories and sub-categories, each with a set of relevant product keywords.\n",
        "3. **Timeframe and Location Setting**: The timeframe is set to the last two years, and the location is set to worldwide.\n",
        "4. **Data Retrieval**: A function is defined to fetch related queries for each keyword, with built-in error handling and delays to manage rate limits imposed by the Google Trends API.\n",
        "5. **Data Combination and Storage**: The fetched data is combined into a single dataframe, which is then split into training and reserved datasets.\n",
        "6. **Saving Results**: The split datasets are saved as CSV files for further analysis.\n",
        "\n",
        "This notebook automates the process of gathering and organizing Google Trends data, providing a structured approach to analyze trends and related queries for a wide range of product categories."
      ],
      "metadata": {
        "id": "VPD95lMcFngo"
      }
    },
    {
      "cell_type": "markdown",
      "source": [
        "### Step 1: Install and Import Libraries"
      ],
      "metadata": {
        "id": "t0F3uC2sCOgb"
      }
    },
    {
      "cell_type": "code",
      "source": [
        "! pip install pytrends"
      ],
      "metadata": {
        "colab": {
          "base_uri": "https://localhost:8080/"
        },
        "id": "Z0SJCHD0CdZM",
        "outputId": "0c7fc860-1d73-4e57-a506-32ac0682bcf7"
      },
      "execution_count": 32,
      "outputs": [
        {
          "output_type": "stream",
          "name": "stdout",
          "text": [
            "Requirement already satisfied: pytrends in /usr/local/lib/python3.10/dist-packages (4.9.2)\n",
            "Requirement already satisfied: requests>=2.0 in /usr/local/lib/python3.10/dist-packages (from pytrends) (2.31.0)\n",
            "Requirement already satisfied: pandas>=0.25 in /usr/local/lib/python3.10/dist-packages (from pytrends) (2.0.3)\n",
            "Requirement already satisfied: lxml in /usr/local/lib/python3.10/dist-packages (from pytrends) (4.9.4)\n",
            "Requirement already satisfied: python-dateutil>=2.8.2 in /usr/local/lib/python3.10/dist-packages (from pandas>=0.25->pytrends) (2.8.2)\n",
            "Requirement already satisfied: pytz>=2020.1 in /usr/local/lib/python3.10/dist-packages (from pandas>=0.25->pytrends) (2023.4)\n",
            "Requirement already satisfied: tzdata>=2022.1 in /usr/local/lib/python3.10/dist-packages (from pandas>=0.25->pytrends) (2024.1)\n",
            "Requirement already satisfied: numpy>=1.21.0 in /usr/local/lib/python3.10/dist-packages (from pandas>=0.25->pytrends) (1.25.2)\n",
            "Requirement already satisfied: charset-normalizer<4,>=2 in /usr/local/lib/python3.10/dist-packages (from requests>=2.0->pytrends) (3.3.2)\n",
            "Requirement already satisfied: idna<4,>=2.5 in /usr/local/lib/python3.10/dist-packages (from requests>=2.0->pytrends) (3.7)\n",
            "Requirement already satisfied: urllib3<3,>=1.21.1 in /usr/local/lib/python3.10/dist-packages (from requests>=2.0->pytrends) (2.0.7)\n",
            "Requirement already satisfied: certifi>=2017.4.17 in /usr/local/lib/python3.10/dist-packages (from requests>=2.0->pytrends) (2024.6.2)\n",
            "Requirement already satisfied: six>=1.5 in /usr/local/lib/python3.10/dist-packages (from python-dateutil>=2.8.2->pandas>=0.25->pytrends) (1.16.0)\n"
          ]
        }
      ]
    },
    {
      "cell_type": "code",
      "source": [
        "from pytrends.request import TrendReq\n",
        "import datetime\n",
        "import pandas as pd\n",
        "from google.colab import files\n",
        "import time\n",
        "from pytrends.exceptions import TooManyRequestsError"
      ],
      "metadata": {
        "id": "l94ZV9oICT93"
      },
      "execution_count": 33,
      "outputs": []
    },
    {
      "cell_type": "markdown",
      "source": [
        "**Explanation:**\n",
        "- **Install `pytrends`**: Ensures the library is available for use.\n",
        "- **Import Libraries**: Imports necessary libraries for Google Trends API requests, date handling, data manipulation, file handling, and time management."
      ],
      "metadata": {
        "id": "_zcDQuK6CVq3"
      }
    },
    {
      "cell_type": "markdown",
      "source": [
        "### Step 2: Initialize Pytrends and Define Data"
      ],
      "metadata": {
        "id": "ZZmnmSoYCwut"
      }
    },
    {
      "cell_type": "code",
      "source": [
        "# # Initialize the Google Trends API Client\n",
        "# pytrend = TrendReq()\n",
        "\n",
        "# # Confection categories and their respective products\n",
        "# confections_data = {\n",
        "#   \"Confections\": {\n",
        "#     \"Chocolates\": [\"Milk chocolate\", \"Dark chocolate\", \"White chocolate\", \"Chocolate truffles\", \"Filled chocolates\"],\n",
        "#     \"Hard Candies\": [\"Lollipops\", \"Candy canes\", \"Jolly Ranchers\", \"Lemon drops\"],\n",
        "#     \"Gummies\": [\"Gummy bears\", \"Gummy worms\", \"Sour gummies\"],\n",
        "#     \"Jellies\": [\"Jelly beans\", \"Pâte de fruits\", \"Turkish delight\"],\n",
        "#     \"Licorice\": [\"Black licorice\", \"Red licorice\", \"Licorice twists\"],\n",
        "#     \"Chews\": [\"Starburst\", \"Taffy\", \"Hi-Chew\"],\n",
        "#     \"Marshmallows\": [\"Regular marshmallows\", \"Mini marshmallows\", \"Flavored marshmallows\"],\n",
        "#     \"Caramels\": [\"Plain caramels\", \"Salted caramels\", \"Chocolate-covered caramels\"],\n",
        "#     \"Nougat\": [\"White nougat (with almonds)\", \"Brown nougat (with chocolate)\"],\n",
        "#     \"Fudge\": [\"Chocolate fudge\", \"Peanut butter fudge\", \"Maple fudge\"],\n",
        "#     \"Toffees\": [\"Butter toffee\", \"English toffee\", \"Almond roca\"],\n",
        "#     \"Brittles\": [\"Peanut brittle\", \"Sesame brittle\", \"Pecan brittle\"],\n",
        "#     \"Truffles\": [\"Dark chocolate truffles\", \"Milk chocolate truffles\", \"White chocolate truffles\"],\n",
        "#     \"Pastilles\": [\"Fruit pastilles\", \"Licorice pastilles\", \"Mint pastilles\"],\n",
        "#     \"Marzipan\": [\"Plain marzipan\", \"Fruit-shaped marzipan\", \"Marzipan-covered cake\"],\n",
        "#     \"Halva\": [\"Sesame halva\", \"Pistachio halva\", \"Almond halva\"],\n",
        "#     \"Fondants\": [\"Plain fondant\", \"Rose fondant\", \"Cream fondants\"],\n",
        "#     \"Pralines\": [\"Pecan pralines\", \"Almond pralines\", \"Chocolate pralines\"],\n",
        "#     \"Mints\": [\"Peppermint candies\", \"Spearmint candies\", \"Breath mints\"]\n",
        "# }\n",
        "# # (Other category definitions like `alcoholic_data`, `non_alcoholic_data`, etc. follow the same structure)"
      ],
      "metadata": {
        "id": "HHf5n6M6CzuP"
      },
      "execution_count": 34,
      "outputs": []
    },
    {
      "cell_type": "code",
      "source": [
        "# Initialize the Google Trends API Client\n",
        "pytrend = TrendReq()\n",
        "\n",
        "# Define each category with a list of keywords (products)\n",
        "confections_data = {\n",
        "    \"Confections\": {\n",
        "    \"Chocolates\": [\"Milk chocolate\", \"Dark chocolate\", \"White chocolate\", \"Chocolate truffles\", \"Filled chocolates\"],\n",
        "    \"Hard Candies\": [\"Lollipops\", \"Candy canes\", \"Jolly Ranchers\", \"Lemon drops\"],\n",
        "    \"Gummies\": [\"Gummy bears\", \"Gummy worms\", \"Sour gummies\"],\n",
        "    \"Jellies\": [\"Jelly beans\", \"Pâte de fruits\", \"Turkish delight\"],\n",
        "    \"Licorice\": [\"Black licorice\", \"Red licorice\", \"Licorice twists\"],\n",
        "    \"Chews\": [\"Starburst\", \"Taffy\", \"Hi-Chew\"],\n",
        "    \"Marshmallows\": [\"Regular marshmallows\", \"Mini marshmallows\", \"Flavored marshmallows\"],\n",
        "    \"Caramels\": [\"Plain caramels\", \"Salted caramels\", \"Chocolate-covered caramels\"],\n",
        "    \"Nougat\": [\"White nougat (with almonds)\", \"Brown nougat (with chocolate)\"],\n",
        "    \"Fudge\": [\"Chocolate fudge\", \"Peanut butter fudge\", \"Maple fudge\"],\n",
        "    \"Toffees\": [\"Butter toffee\", \"English toffee\", \"Almond roca\"],\n",
        "    \"Brittles\": [\"Peanut brittle\", \"Sesame brittle\", \"Pecan brittle\"],\n",
        "    \"Truffles\": [\"Dark chocolate truffles\", \"Milk chocolate truffles\", \"White chocolate truffles\"],\n",
        "    \"Pastilles\": [\"Fruit pastilles\", \"Licorice pastilles\", \"Mint pastilles\"],\n",
        "    \"Marzipan\": [\"Plain marzipan\", \"Fruit-shaped marzipan\", \"Marzipan-covered cake\"],\n",
        "    \"Halva\": [\"Sesame halva\", \"Pistachio halva\", \"Almond halva\"],\n",
        "    \"Fondants\": [\"Plain fondant\", \"Rose fondant\", \"Cream fondants\"],\n",
        "    \"Pralines\": [\"Pecan pralines\", \"Almond pralines\", \"Chocolate pralines\"],\n",
        "    \"Mints\": [\"Peppermint candies\", \"Spearmint candies\", \"Breath mints\"]\n",
        "    }\n",
        "}\n",
        "\n",
        "alcoholic_data = {\n",
        "    \"Alcoholic Beverages\": {\n",
        "    \"Beers\": [\"Lager\", \"Ale\", \"Stout\", \"IPA (Indian Pale Ale)\", \"Pilsner\"],\n",
        "    \"Red Wines\": [\"Merlot\", \"Cabernet Sauvignon\", \"Pinot Noir\"],\n",
        "    \"White Wines\": [\"Chardonnay\", \"Sauvignon Blanc\"],\n",
        "    \"Rosé\": [\"Sparkling wine\",\"Champagne\", \"Prosecco\"],\n",
        "    \"Whiskeys\": [\"Scotch\", \"Bourbon\", \"Rye whiskey\", \"Irish whiskey\", \"Tennessee whiskey\"],\n",
        "    \"Vodka\": [\"Plain vodka\", \"Flavored vodka (e.g., lemon, berry, vanilla)\"],\n",
        "    \"Rum\": [\"White rum\", \"Dark rum\", \"Spiced rum\", \"Aged rum\"],\n",
        "    \"Tequila\": [\"Blanco (Silver)\", \"Reposado\", \"Añejo\", \"Extra Añejo\"],\n",
        "    \"Brandy\": [\"Cognac\", \"Armagnac\", \"Pisco\", \"Fruit brandies (e.g., apple, pear)\"],\n",
        "    \"Gin\": [\"London dry gin\", \"Old Tom gin\", \"Flavored gin\", \"Plymouth gin\"],\n",
        "    \"Liqueurs\": [\"Baileys (Irish Cream)\", \"Amaretto\", \"Kahlúa (coffee liqueur)\", \"Limoncello\", \"Cointreau (orange liqueur)\"],\n",
        "    \"Aperitifs\": [\"Campari\", \"Aperol\", \"Vermouth\"],\n",
        "    \"Digestifs\": [\"Grappa\", \"Jägermeister\", \"Fernet\"]\n",
        "    }\n",
        "}\n",
        "\n",
        "# Combine all categories\n",
        "categories = {\n",
        "    **confections_data,\n",
        "    **alcoholic_data,\n",
        "    # Add other category dictionaries similarly\n",
        "}"
      ],
      "metadata": {
        "id": "DMCCqe-ELDth"
      },
      "execution_count": 35,
      "outputs": []
    },
    {
      "cell_type": "markdown",
      "source": [
        "**Explanation:**\n",
        "- **Initialize Pytrends**: Creates an instance of the `TrendReq` class to interface with the Google Trends API.\n",
        "- **Define Data**: Lists confection categories and their respective products. Similar structures are used for other categories like alcoholic beverages, non-alcoholic beverages, groceries, etc.\n",
        "- **Combine Categories**: Merges all category dictionaries into one `categories` dictionary."
      ],
      "metadata": {
        "id": "G0WmuV0UC5-W"
      }
    },
    {
      "cell_type": "markdown",
      "source": [
        "### Step 3: Define the Timeframe and Location"
      ],
      "metadata": {
        "id": "IG0Mw_79DRzs"
      }
    },
    {
      "cell_type": "code",
      "source": [
        "# Set the timeframe for the last two years\n",
        "end_date = datetime.datetime.now().strftime('%Y-%m-%d')\n",
        "start_date = (datetime.datetime.now() - datetime.timedelta(days=730)).strftime('%Y-%m-%d')\n",
        "timeframe = f'{start_date} {end_date}'\n",
        "\n",
        "# Location (assuming worldwide)\n",
        "location = 'Worldwide'"
      ],
      "metadata": {
        "id": "WWv0bRYIDVFO"
      },
      "execution_count": 38,
      "outputs": []
    },
    {
      "cell_type": "markdown",
      "source": [
        "**Explanation:**\n",
        "- **Timeframe Calculation**: Sets the data retrieval period to the last two years.\n",
        "- **Location**: Assumes a global scope for the data."
      ],
      "metadata": {
        "id": "mb-Uq9-TDbk4"
      }
    },
    {
      "cell_type": "markdown",
      "source": [
        "### Step 4: Initialize Data Storage and Define Fetch Function"
      ],
      "metadata": {
        "id": "Yb-t-89rDtZZ"
      }
    },
    {
      "cell_type": "code",
      "source": [
        "all_related_queries = []\n",
        "\n",
        "# Function to fetch related queries with error handling and delay\n",
        "def fetch_related_queries(pytrend, category, sub_category, keywords, timeframe, location):\n",
        "    try:\n",
        "        pytrend.build_payload(kw_list=keywords, timeframe=timeframe)\n",
        "        related_queries = pytrend.related_queries()\n",
        "\n",
        "        for keyword, queries in related_queries.items():\n",
        "            df = queries['top']  # 'top' gives the top related queries.\n",
        "\n",
        "            if df is not None:  # Sometimes there might not be any related queries returned.\n",
        "                df['Keyword'] = keyword\n",
        "                df['Category'] = category\n",
        "                df['Sub-Category'] = sub_category\n",
        "                df['Date Range'] = timeframe\n",
        "                df['Location'] = location\n",
        "                all_related_queries.append(df)\n",
        "    except TooManyRequestsError:\n",
        "        print(f\"Too many requests. Retrying for category: {category}, sub-category: {sub_category}, and keywords: {keywords}\")\n",
        "        time.sleep(60)  # Delay for 60 seconds before retrying\n",
        "        fetch_related_queries(pytrend, category, sub_category, keywords, timeframe, location)"
      ],
      "metadata": {
        "id": "2eBFtjHHDwPU"
      },
      "execution_count": 39,
      "outputs": []
    },
    {
      "cell_type": "markdown",
      "source": [
        "**Explanation:**\n",
        "- **Data Storage**: Initializes an empty list to store related queries.\n",
        "- **Fetch Function**: Defines a function to fetch related queries, handle errors, and add delays to avoid rate limiting."
      ],
      "metadata": {
        "id": "Axq256FiD1cE"
      }
    },
    {
      "cell_type": "markdown",
      "source": [
        "### Step 5: Fetch Data"
      ],
      "metadata": {
        "id": "C4ngXpMEEClk"
      }
    },
    {
      "cell_type": "code",
      "source": [
        "# Fetch related queries for each category and sub-category\n",
        "for category, sub_categories in categories.items():\n",
        "    if isinstance(sub_categories, dict):\n",
        "        for sub_category, keywords in sub_categories.items():\n",
        "            fetch_related_queries(pytrend, category, sub_category, keywords, timeframe, location)\n",
        "            time.sleep(10)  # Delay between requests to avoid rate limiting\n",
        "    else:\n",
        "        print(f\"Error: Expected a dictionary for sub-categories in category '{category}', but got {type(sub_categories)}\")"
      ],
      "metadata": {
        "id": "ykMCT46tEEiH"
      },
      "execution_count": 40,
      "outputs": []
    },
    {
      "cell_type": "markdown",
      "source": [
        "**Explanation:**\n",
        "- **Fetch Data**: Iterates over each category and sub-category to fetch related queries, adding delays between requests."
      ],
      "metadata": {
        "id": "MhPFLNAfEK-m"
      }
    },
    {
      "cell_type": "markdown",
      "source": [
        "### Step 6: Combine Dataframes and Save Results"
      ],
      "metadata": {
        "id": "RUBF7oEeEPAL"
      }
    },
    {
      "cell_type": "code",
      "source": [
        "# Combine all the dataframes\n",
        "if all_related_queries:\n",
        "    final_df = pd.concat(all_related_queries, ignore_index=True)\n",
        "    print(final_df)\n",
        "else:\n",
        "    print(\"No related queries found.\")"
      ],
      "metadata": {
        "colab": {
          "base_uri": "https://localhost:8080/"
        },
        "id": "t6NC0Bf7ERTm",
        "outputId": "c980880e-b096-4268-c81f-a1d45638890a"
      },
      "execution_count": 41,
      "outputs": [
        {
          "output_type": "stream",
          "name": "stdout",
          "text": [
            "                             query  value         Keyword  \\\n",
            "0            chocolate milk powder    100  Milk chocolate   \n",
            "1             chocolate milk shake     40  Milk chocolate   \n",
            "2            costco chocolate milk     14  Milk chocolate   \n",
            "3                 kitkat chocolate     13  Milk chocolate   \n",
            "4    dairy milk chocolate flavours      3  Milk chocolate   \n",
            "..                             ...    ...             ...   \n",
            "306        ist jägermeister gesund      8    Jägermeister   \n",
            "307                   fernet drink    100          Fernet   \n",
            "308               que es el fernet     88          Fernet   \n",
            "309                fernet de litro     77          Fernet   \n",
            "310                 what is fernet     71          Fernet   \n",
            "\n",
            "                Category Sub-Category             Date Range   Location  \n",
            "0            Confections   Chocolates  2022-07-01 2024-06-30  Worldwide  \n",
            "1            Confections   Chocolates  2022-07-01 2024-06-30  Worldwide  \n",
            "2            Confections   Chocolates  2022-07-01 2024-06-30  Worldwide  \n",
            "3            Confections   Chocolates  2022-07-01 2024-06-30  Worldwide  \n",
            "4            Confections   Chocolates  2022-07-01 2024-06-30  Worldwide  \n",
            "..                   ...          ...                    ...        ...  \n",
            "306  Alcoholic Beverages    Digestifs  2022-07-01 2024-06-30  Worldwide  \n",
            "307  Alcoholic Beverages    Digestifs  2022-07-01 2024-06-30  Worldwide  \n",
            "308  Alcoholic Beverages    Digestifs  2022-07-01 2024-06-30  Worldwide  \n",
            "309  Alcoholic Beverages    Digestifs  2022-07-01 2024-06-30  Worldwide  \n",
            "310  Alcoholic Beverages    Digestifs  2022-07-01 2024-06-30  Worldwide  \n",
            "\n",
            "[311 rows x 7 columns]\n"
          ]
        }
      ]
    },
    {
      "cell_type": "code",
      "source": [
        "final_df.head()"
      ],
      "metadata": {
        "colab": {
          "base_uri": "https://localhost:8080/",
          "height": 204
        },
        "id": "Oy_yp-c3NqlG",
        "outputId": "e94d6b4a-6fc8-4936-afa4-3ec6ee8c4585"
      },
      "execution_count": 46,
      "outputs": [
        {
          "output_type": "execute_result",
          "data": {
            "text/plain": [
              "                           query  value         Keyword     Category  \\\n",
              "0          chocolate milk powder    100  Milk chocolate  Confections   \n",
              "1           chocolate milk shake     40  Milk chocolate  Confections   \n",
              "2          costco chocolate milk     14  Milk chocolate  Confections   \n",
              "3               kitkat chocolate     13  Milk chocolate  Confections   \n",
              "4  dairy milk chocolate flavours      3  Milk chocolate  Confections   \n",
              "\n",
              "  Sub-Category             Date Range   Location  \n",
              "0   Chocolates  2022-07-01 2024-06-30  Worldwide  \n",
              "1   Chocolates  2022-07-01 2024-06-30  Worldwide  \n",
              "2   Chocolates  2022-07-01 2024-06-30  Worldwide  \n",
              "3   Chocolates  2022-07-01 2024-06-30  Worldwide  \n",
              "4   Chocolates  2022-07-01 2024-06-30  Worldwide  "
            ],
            "text/html": [
              "\n",
              "  <div id=\"df-1b64e444-aa0e-4c1f-9e1d-170fffb533da\" class=\"colab-df-container\">\n",
              "    <div>\n",
              "<style scoped>\n",
              "    .dataframe tbody tr th:only-of-type {\n",
              "        vertical-align: middle;\n",
              "    }\n",
              "\n",
              "    .dataframe tbody tr th {\n",
              "        vertical-align: top;\n",
              "    }\n",
              "\n",
              "    .dataframe thead th {\n",
              "        text-align: right;\n",
              "    }\n",
              "</style>\n",
              "<table border=\"1\" class=\"dataframe\">\n",
              "  <thead>\n",
              "    <tr style=\"text-align: right;\">\n",
              "      <th></th>\n",
              "      <th>query</th>\n",
              "      <th>value</th>\n",
              "      <th>Keyword</th>\n",
              "      <th>Category</th>\n",
              "      <th>Sub-Category</th>\n",
              "      <th>Date Range</th>\n",
              "      <th>Location</th>\n",
              "    </tr>\n",
              "  </thead>\n",
              "  <tbody>\n",
              "    <tr>\n",
              "      <th>0</th>\n",
              "      <td>chocolate milk powder</td>\n",
              "      <td>100</td>\n",
              "      <td>Milk chocolate</td>\n",
              "      <td>Confections</td>\n",
              "      <td>Chocolates</td>\n",
              "      <td>2022-07-01 2024-06-30</td>\n",
              "      <td>Worldwide</td>\n",
              "    </tr>\n",
              "    <tr>\n",
              "      <th>1</th>\n",
              "      <td>chocolate milk shake</td>\n",
              "      <td>40</td>\n",
              "      <td>Milk chocolate</td>\n",
              "      <td>Confections</td>\n",
              "      <td>Chocolates</td>\n",
              "      <td>2022-07-01 2024-06-30</td>\n",
              "      <td>Worldwide</td>\n",
              "    </tr>\n",
              "    <tr>\n",
              "      <th>2</th>\n",
              "      <td>costco chocolate milk</td>\n",
              "      <td>14</td>\n",
              "      <td>Milk chocolate</td>\n",
              "      <td>Confections</td>\n",
              "      <td>Chocolates</td>\n",
              "      <td>2022-07-01 2024-06-30</td>\n",
              "      <td>Worldwide</td>\n",
              "    </tr>\n",
              "    <tr>\n",
              "      <th>3</th>\n",
              "      <td>kitkat chocolate</td>\n",
              "      <td>13</td>\n",
              "      <td>Milk chocolate</td>\n",
              "      <td>Confections</td>\n",
              "      <td>Chocolates</td>\n",
              "      <td>2022-07-01 2024-06-30</td>\n",
              "      <td>Worldwide</td>\n",
              "    </tr>\n",
              "    <tr>\n",
              "      <th>4</th>\n",
              "      <td>dairy milk chocolate flavours</td>\n",
              "      <td>3</td>\n",
              "      <td>Milk chocolate</td>\n",
              "      <td>Confections</td>\n",
              "      <td>Chocolates</td>\n",
              "      <td>2022-07-01 2024-06-30</td>\n",
              "      <td>Worldwide</td>\n",
              "    </tr>\n",
              "  </tbody>\n",
              "</table>\n",
              "</div>\n",
              "    <div class=\"colab-df-buttons\">\n",
              "\n",
              "  <div class=\"colab-df-container\">\n",
              "    <button class=\"colab-df-convert\" onclick=\"convertToInteractive('df-1b64e444-aa0e-4c1f-9e1d-170fffb533da')\"\n",
              "            title=\"Convert this dataframe to an interactive table.\"\n",
              "            style=\"display:none;\">\n",
              "\n",
              "  <svg xmlns=\"http://www.w3.org/2000/svg\" height=\"24px\" viewBox=\"0 -960 960 960\">\n",
              "    <path d=\"M120-120v-720h720v720H120Zm60-500h600v-160H180v160Zm220 220h160v-160H400v160Zm0 220h160v-160H400v160ZM180-400h160v-160H180v160Zm440 0h160v-160H620v160ZM180-180h160v-160H180v160Zm440 0h160v-160H620v160Z\"/>\n",
              "  </svg>\n",
              "    </button>\n",
              "\n",
              "  <style>\n",
              "    .colab-df-container {\n",
              "      display:flex;\n",
              "      gap: 12px;\n",
              "    }\n",
              "\n",
              "    .colab-df-convert {\n",
              "      background-color: #E8F0FE;\n",
              "      border: none;\n",
              "      border-radius: 50%;\n",
              "      cursor: pointer;\n",
              "      display: none;\n",
              "      fill: #1967D2;\n",
              "      height: 32px;\n",
              "      padding: 0 0 0 0;\n",
              "      width: 32px;\n",
              "    }\n",
              "\n",
              "    .colab-df-convert:hover {\n",
              "      background-color: #E2EBFA;\n",
              "      box-shadow: 0px 1px 2px rgba(60, 64, 67, 0.3), 0px 1px 3px 1px rgba(60, 64, 67, 0.15);\n",
              "      fill: #174EA6;\n",
              "    }\n",
              "\n",
              "    .colab-df-buttons div {\n",
              "      margin-bottom: 4px;\n",
              "    }\n",
              "\n",
              "    [theme=dark] .colab-df-convert {\n",
              "      background-color: #3B4455;\n",
              "      fill: #D2E3FC;\n",
              "    }\n",
              "\n",
              "    [theme=dark] .colab-df-convert:hover {\n",
              "      background-color: #434B5C;\n",
              "      box-shadow: 0px 1px 3px 1px rgba(0, 0, 0, 0.15);\n",
              "      filter: drop-shadow(0px 1px 2px rgba(0, 0, 0, 0.3));\n",
              "      fill: #FFFFFF;\n",
              "    }\n",
              "  </style>\n",
              "\n",
              "    <script>\n",
              "      const buttonEl =\n",
              "        document.querySelector('#df-1b64e444-aa0e-4c1f-9e1d-170fffb533da button.colab-df-convert');\n",
              "      buttonEl.style.display =\n",
              "        google.colab.kernel.accessAllowed ? 'block' : 'none';\n",
              "\n",
              "      async function convertToInteractive(key) {\n",
              "        const element = document.querySelector('#df-1b64e444-aa0e-4c1f-9e1d-170fffb533da');\n",
              "        const dataTable =\n",
              "          await google.colab.kernel.invokeFunction('convertToInteractive',\n",
              "                                                    [key], {});\n",
              "        if (!dataTable) return;\n",
              "\n",
              "        const docLinkHtml = 'Like what you see? Visit the ' +\n",
              "          '<a target=\"_blank\" href=https://colab.research.google.com/notebooks/data_table.ipynb>data table notebook</a>'\n",
              "          + ' to learn more about interactive tables.';\n",
              "        element.innerHTML = '';\n",
              "        dataTable['output_type'] = 'display_data';\n",
              "        await google.colab.output.renderOutput(dataTable, element);\n",
              "        const docLink = document.createElement('div');\n",
              "        docLink.innerHTML = docLinkHtml;\n",
              "        element.appendChild(docLink);\n",
              "      }\n",
              "    </script>\n",
              "  </div>\n",
              "\n",
              "\n",
              "<div id=\"df-db8a017d-7ba8-48ce-8946-d120388baa76\">\n",
              "  <button class=\"colab-df-quickchart\" onclick=\"quickchart('df-db8a017d-7ba8-48ce-8946-d120388baa76')\"\n",
              "            title=\"Suggest charts\"\n",
              "            style=\"display:none;\">\n",
              "\n",
              "<svg xmlns=\"http://www.w3.org/2000/svg\" height=\"24px\"viewBox=\"0 0 24 24\"\n",
              "     width=\"24px\">\n",
              "    <g>\n",
              "        <path d=\"M19 3H5c-1.1 0-2 .9-2 2v14c0 1.1.9 2 2 2h14c1.1 0 2-.9 2-2V5c0-1.1-.9-2-2-2zM9 17H7v-7h2v7zm4 0h-2V7h2v10zm4 0h-2v-4h2v4z\"/>\n",
              "    </g>\n",
              "</svg>\n",
              "  </button>\n",
              "\n",
              "<style>\n",
              "  .colab-df-quickchart {\n",
              "      --bg-color: #E8F0FE;\n",
              "      --fill-color: #1967D2;\n",
              "      --hover-bg-color: #E2EBFA;\n",
              "      --hover-fill-color: #174EA6;\n",
              "      --disabled-fill-color: #AAA;\n",
              "      --disabled-bg-color: #DDD;\n",
              "  }\n",
              "\n",
              "  [theme=dark] .colab-df-quickchart {\n",
              "      --bg-color: #3B4455;\n",
              "      --fill-color: #D2E3FC;\n",
              "      --hover-bg-color: #434B5C;\n",
              "      --hover-fill-color: #FFFFFF;\n",
              "      --disabled-bg-color: #3B4455;\n",
              "      --disabled-fill-color: #666;\n",
              "  }\n",
              "\n",
              "  .colab-df-quickchart {\n",
              "    background-color: var(--bg-color);\n",
              "    border: none;\n",
              "    border-radius: 50%;\n",
              "    cursor: pointer;\n",
              "    display: none;\n",
              "    fill: var(--fill-color);\n",
              "    height: 32px;\n",
              "    padding: 0;\n",
              "    width: 32px;\n",
              "  }\n",
              "\n",
              "  .colab-df-quickchart:hover {\n",
              "    background-color: var(--hover-bg-color);\n",
              "    box-shadow: 0 1px 2px rgba(60, 64, 67, 0.3), 0 1px 3px 1px rgba(60, 64, 67, 0.15);\n",
              "    fill: var(--button-hover-fill-color);\n",
              "  }\n",
              "\n",
              "  .colab-df-quickchart-complete:disabled,\n",
              "  .colab-df-quickchart-complete:disabled:hover {\n",
              "    background-color: var(--disabled-bg-color);\n",
              "    fill: var(--disabled-fill-color);\n",
              "    box-shadow: none;\n",
              "  }\n",
              "\n",
              "  .colab-df-spinner {\n",
              "    border: 2px solid var(--fill-color);\n",
              "    border-color: transparent;\n",
              "    border-bottom-color: var(--fill-color);\n",
              "    animation:\n",
              "      spin 1s steps(1) infinite;\n",
              "  }\n",
              "\n",
              "  @keyframes spin {\n",
              "    0% {\n",
              "      border-color: transparent;\n",
              "      border-bottom-color: var(--fill-color);\n",
              "      border-left-color: var(--fill-color);\n",
              "    }\n",
              "    20% {\n",
              "      border-color: transparent;\n",
              "      border-left-color: var(--fill-color);\n",
              "      border-top-color: var(--fill-color);\n",
              "    }\n",
              "    30% {\n",
              "      border-color: transparent;\n",
              "      border-left-color: var(--fill-color);\n",
              "      border-top-color: var(--fill-color);\n",
              "      border-right-color: var(--fill-color);\n",
              "    }\n",
              "    40% {\n",
              "      border-color: transparent;\n",
              "      border-right-color: var(--fill-color);\n",
              "      border-top-color: var(--fill-color);\n",
              "    }\n",
              "    60% {\n",
              "      border-color: transparent;\n",
              "      border-right-color: var(--fill-color);\n",
              "    }\n",
              "    80% {\n",
              "      border-color: transparent;\n",
              "      border-right-color: var(--fill-color);\n",
              "      border-bottom-color: var(--fill-color);\n",
              "    }\n",
              "    90% {\n",
              "      border-color: transparent;\n",
              "      border-bottom-color: var(--fill-color);\n",
              "    }\n",
              "  }\n",
              "</style>\n",
              "\n",
              "  <script>\n",
              "    async function quickchart(key) {\n",
              "      const quickchartButtonEl =\n",
              "        document.querySelector('#' + key + ' button');\n",
              "      quickchartButtonEl.disabled = true;  // To prevent multiple clicks.\n",
              "      quickchartButtonEl.classList.add('colab-df-spinner');\n",
              "      try {\n",
              "        const charts = await google.colab.kernel.invokeFunction(\n",
              "            'suggestCharts', [key], {});\n",
              "      } catch (error) {\n",
              "        console.error('Error during call to suggestCharts:', error);\n",
              "      }\n",
              "      quickchartButtonEl.classList.remove('colab-df-spinner');\n",
              "      quickchartButtonEl.classList.add('colab-df-quickchart-complete');\n",
              "    }\n",
              "    (() => {\n",
              "      let quickchartButtonEl =\n",
              "        document.querySelector('#df-db8a017d-7ba8-48ce-8946-d120388baa76 button');\n",
              "      quickchartButtonEl.style.display =\n",
              "        google.colab.kernel.accessAllowed ? 'block' : 'none';\n",
              "    })();\n",
              "  </script>\n",
              "</div>\n",
              "\n",
              "    </div>\n",
              "  </div>\n"
            ],
            "application/vnd.google.colaboratory.intrinsic+json": {
              "type": "dataframe",
              "variable_name": "final_df",
              "summary": "{\n  \"name\": \"final_df\",\n  \"rows\": 311,\n  \"fields\": [\n    {\n      \"column\": \"query\",\n      \"properties\": {\n        \"dtype\": \"string\",\n        \"num_unique_values\": 304,\n        \"samples\": [\n          \"cinta scotch\",\n          \"oyster bay sauvignon blanc\",\n          \"lager 157 uppsala\"\n        ],\n        \"semantic_type\": \"\",\n        \"description\": \"\"\n      }\n    },\n    {\n      \"column\": \"value\",\n      \"properties\": {\n        \"dtype\": \"number\",\n        \"std\": 38,\n        \"min\": 0,\n        \"max\": 100,\n        \"num_unique_values\": 71,\n        \"samples\": [\n          22,\n          100,\n          84\n        ],\n        \"semantic_type\": \"\",\n        \"description\": \"\"\n      }\n    },\n    {\n      \"column\": \"Keyword\",\n      \"properties\": {\n        \"dtype\": \"category\",\n        \"num_unique_values\": 72,\n        \"samples\": [\n          \"Filled chocolates\",\n          \"Plymouth gin\",\n          \"Taffy\"\n        ],\n        \"semantic_type\": \"\",\n        \"description\": \"\"\n      }\n    },\n    {\n      \"column\": \"Category\",\n      \"properties\": {\n        \"dtype\": \"category\",\n        \"num_unique_values\": 2,\n        \"samples\": [\n          \"Alcoholic Beverages\",\n          \"Confections\"\n        ],\n        \"semantic_type\": \"\",\n        \"description\": \"\"\n      }\n    },\n    {\n      \"column\": \"Sub-Category\",\n      \"properties\": {\n        \"dtype\": \"category\",\n        \"num_unique_values\": 27,\n        \"samples\": [\n          \"Toffees\",\n          \"Mints\"\n        ],\n        \"semantic_type\": \"\",\n        \"description\": \"\"\n      }\n    },\n    {\n      \"column\": \"Date Range\",\n      \"properties\": {\n        \"dtype\": \"category\",\n        \"num_unique_values\": 1,\n        \"samples\": [\n          \"2022-07-01 2024-06-30\"\n        ],\n        \"semantic_type\": \"\",\n        \"description\": \"\"\n      }\n    },\n    {\n      \"column\": \"Location\",\n      \"properties\": {\n        \"dtype\": \"category\",\n        \"num_unique_values\": 1,\n        \"samples\": [\n          \"Worldwide\"\n        ],\n        \"semantic_type\": \"\",\n        \"description\": \"\"\n      }\n    }\n  ]\n}"
            }
          },
          "metadata": {},
          "execution_count": 46
        }
      ]
    },
    {
      "cell_type": "code",
      "source": [
        "# Split the dataset into 75% and 25% using random samples\n",
        "# train_df = final_df.sample(frac=0.75, random_state=42)\n",
        "# reserved_df = final_df.drop(train_df.index)"
      ],
      "metadata": {
        "id": "dbYnCPpqE6mv"
      },
      "execution_count": 42,
      "outputs": []
    },
    {
      "cell_type": "code",
      "source": [
        "# Save each split to separate CSV files\n",
        "final_df.to_csv('cat1.csv', index=False)\n",
        "# train_df.to_csv('train.csv', index=False)\n",
        "# reserved_df.to_csv('reserved.csv', index=False)\n",
        "final_df.shape\n",
        "# train_df.shape\n",
        "# reserved_df.shape\n",
        "files.download('cat1.csv')\n",
        "# files.download('train.csv')\n",
        "# files.download('reserved.csv')"
      ],
      "metadata": {
        "colab": {
          "base_uri": "https://localhost:8080/",
          "height": 17
        },
        "id": "B5rAp_krE9XH",
        "outputId": "78fb8366-830d-48f5-fd19-757fb622cfd3"
      },
      "execution_count": 43,
      "outputs": [
        {
          "output_type": "display_data",
          "data": {
            "text/plain": [
              "<IPython.core.display.Javascript object>"
            ],
            "application/javascript": [
              "\n",
              "    async function download(id, filename, size) {\n",
              "      if (!google.colab.kernel.accessAllowed) {\n",
              "        return;\n",
              "      }\n",
              "      const div = document.createElement('div');\n",
              "      const label = document.createElement('label');\n",
              "      label.textContent = `Downloading \"${filename}\": `;\n",
              "      div.appendChild(label);\n",
              "      const progress = document.createElement('progress');\n",
              "      progress.max = size;\n",
              "      div.appendChild(progress);\n",
              "      document.body.appendChild(div);\n",
              "\n",
              "      const buffers = [];\n",
              "      let downloaded = 0;\n",
              "\n",
              "      const channel = await google.colab.kernel.comms.open(id);\n",
              "      // Send a message to notify the kernel that we're ready.\n",
              "      channel.send({})\n",
              "\n",
              "      for await (const message of channel.messages) {\n",
              "        // Send a message to notify the kernel that we're ready.\n",
              "        channel.send({})\n",
              "        if (message.buffers) {\n",
              "          for (const buffer of message.buffers) {\n",
              "            buffers.push(buffer);\n",
              "            downloaded += buffer.byteLength;\n",
              "            progress.value = downloaded;\n",
              "          }\n",
              "        }\n",
              "      }\n",
              "      const blob = new Blob(buffers, {type: 'application/binary'});\n",
              "      const a = document.createElement('a');\n",
              "      a.href = window.URL.createObjectURL(blob);\n",
              "      a.download = filename;\n",
              "      div.appendChild(a);\n",
              "      a.click();\n",
              "      div.remove();\n",
              "    }\n",
              "  "
            ]
          },
          "metadata": {}
        },
        {
          "output_type": "display_data",
          "data": {
            "text/plain": [
              "<IPython.core.display.Javascript object>"
            ],
            "application/javascript": [
              "download(\"download_800785ac-d5c4-4d5e-a3ba-55bd5a13c437\", \"confection.csv\", 28427)"
            ]
          },
          "metadata": {}
        }
      ]
    },
    {
      "cell_type": "markdown",
      "source": [
        "**Explanation:**\n",
        "- **Combine Data**: Concatenates all the individual dataframes into a single dataframe `final_df`.\n",
        "- **Split Data**: Randomly splits the data into training (75%) and reserved (25%) sets.\n",
        "- **Save Results**: Saves the split dataframes to CSV files and initiates downloads."
      ],
      "metadata": {
        "id": "K4l4_WgNCIDW"
      }
    }
  ]
}